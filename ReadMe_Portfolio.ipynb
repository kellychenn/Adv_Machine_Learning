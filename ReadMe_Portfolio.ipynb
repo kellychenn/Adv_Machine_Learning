{
 "cells": [
  {
   "cell_type": "markdown",
   "id": "ac3f72c9",
   "metadata": {},
   "source": [
    "# Porfolio details for advanced machine learning class"
   ]
  },
  {
   "cell_type": "markdown",
   "id": "e6593dc0",
   "metadata": {},
   "source": [
    "## Project 1: predictions on U.N. World Happiness Data\n",
    "project link: https://github.com/kellychenn/Adv_Machine_Learning/blob/main/assignment1/HW1.ipynb"
   ]
  },
  {
   "cell_type": "markdown",
   "id": "42edfc7d",
   "metadata": {},
   "source": [
    "- Explore bivariate results; Visualize and describe the relationships between particular features and the target variable\n",
    "- Examine features that predict happiness categories using one or more models that allow for automatic feature selection\n",
    "- Experiment with different prediction models to try to predict World Happiness well (Fit and compare, at minimum, three models)\n",
    "- Adjust model parameters to improve prediciton accuracy and f-1 score"
   ]
  },
  {
   "cell_type": "markdown",
   "id": "e73ba55d",
   "metadata": {},
   "source": [
    "## Project 2: prediction based on Covid Positive X-Ray image\n",
    "project link: https://github.com/kellychenn/Adv_Machine_Learning/blob/main/assignment2/Ass2.ipynb"
   ]
  },
  {
   "cell_type": "markdown",
   "id": "ade5df1a",
   "metadata": {},
   "source": [
    "- Original dataset:  M.E.H. Chowdhury, T. Rahman, A. Khandakar, R. Mazhar, M.A. Kadir, Z.B. Mahbub, K.R. Islam, M.S. Khan, A. Iqbal, N. Al-Emadi, M.B.I. Reaz, “Can AI help in screening Viral and COVID-19 pneumonia?” arXiv preprint, 29 March 2020, https://arxiv.org/abs/2003.13145\n",
    "- Visualize images that demonstrate when x-rays demonstrate Covid Positivity and when they do not\n",
    "- Discuss the dataset in general terms and describe why building a predictive model using this data might be practically useful.\n",
    "- Three prediction models to try to predict x-ray images well.\n",
    "- Apply transfer learning for at least one of these models\n",
    "- Discuss which models performed better and point out relevant hyper-parameter values for successful models.\n",
    "- Attempt to use augmented data to rerun at least one model and submit it to the leaderboard from Aimodelshare\n",
    "- Discuss which models performed better and point out relevant hyper-parameter values for successful models."
   ]
  },
  {
   "cell_type": "markdown",
   "id": "0d457f71",
   "metadata": {},
   "source": [
    "## Project 3: Text Classification Using the Stanford SST Sentiment Dataset\n",
    "project link: https://github.com/kellychenn/Adv_Machine_Learning/blob/main/assignment3/adv_ml_Ass3.ipynb"
   ]
  },
  {
   "cell_type": "markdown",
   "id": "63486e69",
   "metadata": {},
   "source": [
    "- Discuss the dataset in general terms and describe why building a predictive model using this data might be practically useful\n",
    "- Three prediction models to the SST sentiment dataset, including an Embedding layer and LSTM layers, an Embedding layer and Conv1d layers, and transfer learning with glove embeddings \n",
    "- Discuss which models performed better and point out relevant hyper-parameter values for successful models.\n",
    "- Adjust and fit another three models based on previous models\n",
    "- Discuss and conclude which models performed better and relevant hyper-parameter values for successful models"
   ]
  }
 ],
 "metadata": {
  "kernelspec": {
   "display_name": "Python 3 (ipykernel)",
   "language": "python",
   "name": "python3"
  },
  "language_info": {
   "codemirror_mode": {
    "name": "ipython",
    "version": 3
   },
   "file_extension": ".py",
   "mimetype": "text/x-python",
   "name": "python",
   "nbconvert_exporter": "python",
   "pygments_lexer": "ipython3",
   "version": "3.11.1"
  }
 },
 "nbformat": 4,
 "nbformat_minor": 5
}
